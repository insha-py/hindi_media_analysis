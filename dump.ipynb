{
 "cells": [
  {
   "cell_type": "code",
   "execution_count": null,
   "metadata": {},
   "outputs": [],
   "source": [
    "import langdetect\n",
    "import pandas as pd\n",
    "from deep_translator import GoogleTranslator\n",
    "\n",
    "\n",
    "df = pd.read_csv(\"Datafiniti_Hotel_Reviews.csv\")\n",
    "\n",
    "def get_language(text):\n",
    "    try:\n",
    "        return langdetect.detect(text)\n",
    "    except KeyboardInterrupt as e:\n",
    "        raise(e)\n",
    "    except:\n",
    "        return '<-- ERROR -->'\n",
    "    \n",
    "def get_translation(text):\n",
    "    try:\n",
    "        return GoogleTranslator(source='auto', target='en')\\\n",
    "          .translate(str(text))\n",
    "    except KeyboardInterrupt as e:\n",
    "        raise(e)\n",
    "    except:\n",
    "        return '<-- ERROR -->'\n",
    "\n",
    "df['reviews.text'] = df['reviews.us'].map(get_language)\n",
    "#df['reviews_transl'] = df.review.map(get_translation)\n"
   ]
  }
 ],
 "metadata": {
  "language_info": {
   "name": "python"
  }
 },
 "nbformat": 4,
 "nbformat_minor": 2
}
