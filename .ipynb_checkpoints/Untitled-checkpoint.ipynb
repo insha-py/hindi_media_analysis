{
 "cells": [
  {
   "cell_type": "code",
   "execution_count": 1,
   "id": "e685f7b2",
   "metadata": {},
   "outputs": [
    {
     "ename": "ModuleNotFoundError",
     "evalue": "No module named 'tiktoken'",
     "output_type": "error",
     "traceback": [
      "\u001b[1;31m---------------------------------------------------------------------------\u001b[0m",
      "\u001b[1;31mModuleNotFoundError\u001b[0m                       Traceback (most recent call last)",
      "Cell \u001b[1;32mIn[1], line 1\u001b[0m\n\u001b[1;32m----> 1\u001b[0m \u001b[38;5;28;01mimport\u001b[39;00m \u001b[38;5;21;01mtiktoken\u001b[39;00m \n\u001b[0;32m      2\u001b[0m gpt4_enc \u001b[38;5;241m=\u001b[39m tiktoken\u001b[38;5;241m.\u001b[39mencoding_for_model(\u001b[38;5;124m\"\u001b[39m\u001b[38;5;124mgpt-4\u001b[39m\u001b[38;5;124m\"\u001b[39m)\n\u001b[0;32m      4\u001b[0m \u001b[38;5;28;01mdef\u001b[39;00m \u001b[38;5;21mget_tokens\u001b[39m(enc, text):\n",
      "\u001b[1;31mModuleNotFoundError\u001b[0m: No module named 'tiktoken'"
     ]
    }
   ],
   "source": [
    "import tiktoken \n",
    "gpt4_enc = tiktoken.encoding_for_model(\"gpt-4\")\n",
    "\n",
    "def get_tokens(enc, text):\n",
    "    return list(map(lambda x: enc.decode_single_token_bytes(x).decode('utf-8'), \n",
    "                  enc.encode(text)))\n",
    "\n",
    "get_tokens(gpt4_enc, 'Highly recommended!. Good, clean basic accommodation in an excellent location.')"
   ]
  },
  {
   "cell_type": "code",
   "execution_count": null,
   "id": "fcd623cc",
   "metadata": {},
   "outputs": [],
   "source": [
    "import os\n",
    "import openai\n",
    "\n",
    "# best practice from OpenAI not to store your private keys in plain text\n",
    "from dotenv import load_dotenv, find_dotenv\n",
    "_ = load_dotenv(find_dotenv()) \n",
    "\n",
    "# setting up APIKey to access ChatGPT API\n",
    "openai.api_key  = os.environ['OPENAI_API_KEY'] \n",
    "\n",
    "\n",
    "# simple function that return just model response\n",
    "def get_model_response(messages, \n",
    "                       model = 'gpt-3.5-turbo', \n",
    "                       temperature = 0, \n",
    "                       max_tokens = 1000):\n",
    "    response = openai.ChatCompletion.create(\n",
    "        model=model,\n",
    "        messages=messages,\n",
    "        temperature=temperature, \n",
    "        max_tokens=max_tokens, \n",
    "    )\n",
    "\n",
    "    return response.choices[0].message['content']\n",
    "\n",
    "\n",
    "# we can also return token counts\n",
    "def get_model_response_with_token_counts(messages, \n",
    "                                   model = 'gpt-3.5-turbo', \n",
    "                                   temperature = 0, \n",
    "                                   max_tokens = 1000):\n",
    "    \n",
    "    response = openai.ChatCompletion.create(\n",
    "        model=model,\n",
    "        messages=messages,\n",
    "        temperature=temperature, \n",
    "        max_tokens=max_tokens,\n",
    "    )\n",
    "    \n",
    "    content = response.choices[0].message['content']\n",
    "    \n",
    "    tokens_count = {\n",
    "      'prompt_tokens':response['usage']['prompt_tokens'],\n",
    "      'completion_tokens':response['usage']['completion_tokens'],\n",
    "      'total_tokens':response['usage']['total_tokens'],\n",
    "    }\n",
    "​\n",
    "    return content, tokens_count"
   ]
  }
 ],
 "metadata": {
  "kernelspec": {
   "display_name": "Python 3 (ipykernel)",
   "language": "python",
   "name": "python3"
  },
  "language_info": {
   "codemirror_mode": {
    "name": "ipython",
    "version": 3
   },
   "file_extension": ".py",
   "mimetype": "text/x-python",
   "name": "python",
   "nbconvert_exporter": "python",
   "pygments_lexer": "ipython3",
   "version": "3.10.9"
  }
 },
 "nbformat": 4,
 "nbformat_minor": 5
}
